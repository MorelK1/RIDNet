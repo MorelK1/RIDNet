{
 "cells": [
  {
   "cell_type": "code",
   "execution_count": null,
   "metadata": {},
   "outputs": [],
   "source": []
  },
  {
   "cell_type": "code",
   "execution_count": 1,
   "metadata": {},
   "outputs": [],
   "source": [
    "from cmath import inf\n",
    "import os\n",
    "import random\n",
    "import argparse\n",
    "from random import shuffle\n",
    "from re import T\n",
    "from tqdm import tqdm\n",
    "import numpy as np\n",
    "import matplotlib.pyplot as plt\n",
    "\n",
    "import torch\n",
    "import torchvision\n",
    "import torch.nn as nn\n",
    "import torch.optim as optim\n",
    "from torchvision import transforms\n",
    "from torch.utils.data import DataLoader\n",
    "\n",
    "from torchsummary import summary\n",
    "\n",
    "from RIDNET import RIDNet\n",
    "from Loaders import get_val_loader, get_train_loader\n",
    "\n",
    "from losses import *\n",
    "\n",
    "from Metrics import PSNR\n"
   ]
  },
  {
   "cell_type": "code",
   "execution_count": 2,
   "metadata": {},
   "outputs": [],
   "source": [
    "def seed_everything(seed: int = 42):\n",
    "    random.seed(seed)\n",
    "    np.random.seed(seed)\n",
    "    os.environ[\"PYTHONHASHSEED\"] = str(seed)\n",
    "    torch.manual_seed(seed)\n",
    "    torch.cuda.manual_seed(seed)  # type: ignore\n",
    "    torch.cuda.manual_seed_all(seed) # if use multi-GPU\n",
    "    torch.backends.cudnn.deterministic = True  # type: ignore\n",
    "    torch.backends.cudnn.benchmark = False  # type: ignore"
   ]
  },
  {
   "cell_type": "code",
   "execution_count": 3,
   "metadata": {},
   "outputs": [],
   "source": [
    "train_losses = []\n",
    "val_losses = []\n",
    "\n",
    "def train(epochs, batch_size):\n",
    "\n",
    "    EPOCHS = epochs\n",
    "    BATCH_SIZE = batch_size\n",
    "\n",
    "   \n",
    "    if torch.cuda.is_available():\n",
    "        device = torch.device('cuda:0')\n",
    "        print(device)\n",
    "    else:\n",
    "        device = torch.device('cpu')\n",
    "        print(\"CUDA n'est pas disponible, utilisation de CPU.\")\n",
    "    \n",
    "    train_loader = get_train_loader(dataset_path=\"./data\", batch_size=BATCH_SIZE)\n",
    "\n",
    "    val_loader = get_val_loader(dataset_path=\"./val_data\", batch_size=BATCH_SIZE)\n",
    "\n",
    "    \n",
    "    weight_folder = 'weight'\n",
    "    model_path = os.path.join(weight_folder, 'best_model.pth')\n",
    "\n",
    "    # Vérification de l'existence du modèle pré-entraîné\n",
    "    if os.path.exists(model_path):\n",
    "        # Charger le modèle pré-entraîné\n",
    "        checkpoint = torch.load(model_path)\n",
    "        model = RIDNet(in_channels=3, num_features=128)\n",
    "        model.load_state_dict(checkpoint['model_state_dict'])\n",
    "        optimizer = optim.Adam(model.parameters())\n",
    "        optimizer.load_state_dict(checkpoint['optimizer_state_dict'])\n",
    "        criterion = checkpoint['loss']\n",
    "    else:\n",
    "        # Commencer un nouvel entraînement\n",
    "        model = RIDNet(in_channels=3, num_features=128)\n",
    "        optimizer = optim.Adam(model.parameters(), lr=1e-3, weight_decay=1e-5)\n",
    "        criterion = Smooth_L1_Loss().to(device)\n",
    "\n",
    "    best_val_loss = inf\n",
    "    \n",
    "    for epoch in range(1, EPOCHS+1):\n",
    "        train_loss = 0.\n",
    "        val_loss = 0.\n",
    "\n",
    "        loop = tqdm(enumerate(train_loader), total=len(train_loader), leave=False)\n",
    "\n",
    "        model.train()\n",
    "        for i, data in loop:\n",
    "            noisy = data['noisy'].to(device)\n",
    "            clean = data['clean'].to(device)\n",
    "\n",
    "            optimizer.zero_grad()\n",
    "            pred = model(noisy)\n",
    "            loss = criterion(pred, clean) # pred, gt\n",
    "            loss.backward()\n",
    "            optimizer.step()\n",
    "\n",
    "            train_loss += loss.item()\n",
    "            loop.set_description(f'Epoch [{epoch}/{EPOCHS}')\n",
    "        \n",
    "        \n",
    "        model.eval()\n",
    "        with torch.no_grad():\n",
    "            loop = tqdm(enumerate(val_loader), total=len(val_loader), leave=False)\n",
    "\n",
    "            for j, data in loop:\n",
    "                noisy = data['noisy'].to(device)\n",
    "                clean = data['clean'].to(device)\n",
    "\n",
    "                pred = model(noisy)\n",
    "                \n",
    "                loss = criterion(pred, clean)\n",
    "                val_loss += loss.item()\n",
    "                loop.set_description(f'valid')\n",
    "        \n",
    "        train_loss = train_loss / len(train_loader)\n",
    "        val_loss = val_loss / len(val_loader)\n",
    "\n",
    "\n",
    "        train_losses.append(train_loss)\n",
    "        val_losses.append(val_loss)\n",
    "\n",
    "        print(f'Epoch: {epoch}\\t train_loss: {train_loss}\\t val_loss: {val_loss}')\n",
    "\n",
    "        if best_val_loss > val_loss:\n",
    "            # print('=' * 100)\n",
    "            print('=' * 100)\n",
    "            print(f'val_loss is improved from {best_val_loss:.8f} to {val_loss:.8f}\\t saved current weight')\n",
    "            print('=' * 100)\n",
    "            best_val_loss = val_loss\n",
    "\n",
    "            # torch.save(model, 'model.pth')\n",
    "            torch.save({'epoch': epoch,\n",
    "                        'model_state_dict': model.state_dict(),\n",
    "                        'optimizer_state_dict': optimizer.state_dict(),\n",
    "                        'loss': criterion},\n",
    "                        'weight/best_model.pth')\n",
    "\n",
    " "
   ]
  },
  {
   "cell_type": "code",
   "execution_count": 10,
   "metadata": {},
   "outputs": [
    {
     "name": "stdout",
     "output_type": "stream",
     "text": [
      "CUDA n'est pas disponible, utilisation de CPU.\n"
     ]
    },
    {
     "name": "stderr",
     "output_type": "stream",
     "text": [
      "                                                          \r"
     ]
    },
    {
     "name": "stdout",
     "output_type": "stream",
     "text": [
      "Epoch: 1\t train_loss: 72.6076042175293\t val_loss: 103.8448486328125\n",
      "====================================================================================================\n",
      "val_loss is improved from inf to 103.84484863\t saved current weight\n",
      "====================================================================================================\n"
     ]
    },
    {
     "name": "stderr",
     "output_type": "stream",
     "text": [
      "                                                               \r"
     ]
    },
    {
     "name": "stdout",
     "output_type": "stream",
     "text": [
      "Epoch: 2\t train_loss: 57.98484992980957\t val_loss: 54.995004653930664\n",
      "====================================================================================================\n",
      "val_loss is improved from 103.84484863 to 54.99500465\t saved current weight\n",
      "====================================================================================================\n"
     ]
    },
    {
     "name": "stderr",
     "output_type": "stream",
     "text": [
      "                                                          \r"
     ]
    },
    {
     "name": "stdout",
     "output_type": "stream",
     "text": [
      "Epoch: 3\t train_loss: 62.112152862548825\t val_loss: 42.71517753601074\n",
      "====================================================================================================\n",
      "val_loss is improved from 54.99500465 to 42.71517754\t saved current weight\n",
      "====================================================================================================\n"
     ]
    }
   ],
   "source": [
    "\n",
    "if __name__ == '__main__':\n",
    "    seed_everything(42)\n",
    "    train(3,4)\n"
   ]
  },
  {
   "cell_type": "code",
   "execution_count": 16,
   "metadata": {},
   "outputs": [
    {
     "data": {
      "image/png": "[encoded data removed]",
      "text/plain": [
       "<Figure size 640x480 with 1 Axes>"
      ]
     },
     "metadata": {},
     "output_type": "display_data"
    }
   ],
   "source": [
    "# Affichage des courbes de perte\n",
    "epochs = range(1, 4)\n",
    "plt.plot(epochs,train_losses, label='Train Loss')\n",
    "plt.plot(epochs,val_losses, label='Validation Loss')\n",
    "plt.xlabel('Epochs')\n",
    "plt.ylabel('Loss')\n",
    "plt.legend()\n",
    "plt.show()\n"
   ]
  },
  {
   "cell_type": "code",
   "execution_count": 4,
   "metadata": {},
   "outputs": [
    {
     "data": {
      "text/plain": [
       "[]"
      ]
     },
     "execution_count": 4,
     "metadata": {},
     "output_type": "execute_result"
    }
   ],
   "source": [
    "train_losses"
   ]
  },
  {
   "cell_type": "code",
   "execution_count": 5,
   "metadata": {},
   "outputs": [
    {
     "data": {
      "text/plain": [
       "RIDNet(\n",
       "  (head): Sequential(\n",
       "    (0): Conv2d(3, 128, kernel_size=(3, 3), stride=(1, 1), padding=(1, 1))\n",
       "    (1): ReLU(inplace=True)\n",
       "  )\n",
       "  (eam1): EAM(\n",
       "    (r1): Merge_And_Run_Dual(\n",
       "      (part1): Sequential(\n",
       "        (0): Conv2d(128, 128, kernel_size=(3, 3), stride=(1, 1), padding=(1, 1))\n",
       "        (1): ReLU(inplace=True)\n",
       "        (2): Conv2d(128, 128, kernel_size=(3, 3), stride=(1, 1), padding=(2, 2), dilation=(2, 2))\n",
       "        (3): ReLU(inplace=True)\n",
       "      )\n",
       "      (part2): Sequential(\n",
       "        (0): Conv2d(128, 128, kernel_size=(3, 3), stride=(1, 1), padding=(3, 3), dilation=(3, 3))\n",
       "        (1): ReLU(inplace=True)\n",
       "        (2): Conv2d(128, 128, kernel_size=(3, 3), stride=(1, 1), padding=(4, 4), dilation=(4, 4))\n",
       "        (3): ReLU(inplace=True)\n",
       "      )\n",
       "      (part3): Sequential(\n",
       "        (0): Conv2d(256, 128, kernel_size=(3, 3), stride=(1, 1), padding=(1, 1))\n",
       "        (1): ReLU(inplace=True)\n",
       "      )\n",
       "    )\n",
       "    (r2): ResidualBlock(\n",
       "      (body): Sequential(\n",
       "        (0): Conv2d(128, 128, kernel_size=(3, 3), stride=(1, 1), padding=(1, 1))\n",
       "        (1): ReLU(inplace=True)\n",
       "        (2): Conv2d(128, 128, kernel_size=(3, 3), stride=(1, 1), padding=(1, 1))\n",
       "      )\n",
       "    )\n",
       "    (r3): EResidualBlock(\n",
       "      (body): Sequential(\n",
       "        (0): Conv2d(128, 128, kernel_size=(3, 3), stride=(1, 1), padding=(1, 1))\n",
       "        (1): ReLU(inplace=True)\n",
       "        (2): Conv2d(128, 128, kernel_size=(3, 3), stride=(1, 1), padding=(1, 1))\n",
       "        (3): ReLU(inplace=True)\n",
       "        (4): Conv2d(128, 128, kernel_size=(1, 1), stride=(1, 1))\n",
       "      )\n",
       "    )\n",
       "    (fa): FeatureAttention(\n",
       "      (gap): AdaptiveAvgPool2d(output_size=1)\n",
       "      (c1): Sequential(\n",
       "        (0): Conv2d(128, 8, kernel_size=(1, 1), stride=(1, 1))\n",
       "        (1): ReLU(inplace=True)\n",
       "      )\n",
       "      (c2): Sequential(\n",
       "        (0): Conv2d(8, 128, kernel_size=(1, 1), stride=(1, 1))\n",
       "        (1): Sigmoid()\n",
       "      )\n",
       "    )\n",
       "  )\n",
       "  (eam2): EAM(\n",
       "    (r1): Merge_And_Run_Dual(\n",
       "      (part1): Sequential(\n",
       "        (0): Conv2d(128, 128, kernel_size=(3, 3), stride=(1, 1), padding=(1, 1))\n",
       "        (1): ReLU(inplace=True)\n",
       "        (2): Conv2d(128, 128, kernel_size=(3, 3), stride=(1, 1), padding=(2, 2), dilation=(2, 2))\n",
       "        (3): ReLU(inplace=True)\n",
       "      )\n",
       "      (part2): Sequential(\n",
       "        (0): Conv2d(128, 128, kernel_size=(3, 3), stride=(1, 1), padding=(3, 3), dilation=(3, 3))\n",
       "        (1): ReLU(inplace=True)\n",
       "        (2): Conv2d(128, 128, kernel_size=(3, 3), stride=(1, 1), padding=(4, 4), dilation=(4, 4))\n",
       "        (3): ReLU(inplace=True)\n",
       "      )\n",
       "      (part3): Sequential(\n",
       "        (0): Conv2d(256, 128, kernel_size=(3, 3), stride=(1, 1), padding=(1, 1))\n",
       "        (1): ReLU(inplace=True)\n",
       "      )\n",
       "    )\n",
       "    (r2): ResidualBlock(\n",
       "      (body): Sequential(\n",
       "        (0): Conv2d(128, 128, kernel_size=(3, 3), stride=(1, 1), padding=(1, 1))\n",
       "        (1): ReLU(inplace=True)\n",
       "        (2): Conv2d(128, 128, kernel_size=(3, 3), stride=(1, 1), padding=(1, 1))\n",
       "      )\n",
       "    )\n",
       "    (r3): EResidualBlock(\n",
       "      (body): Sequential(\n",
       "        (0): Conv2d(128, 128, kernel_size=(3, 3), stride=(1, 1), padding=(1, 1))\n",
       "        (1): ReLU(inplace=True)\n",
       "        (2): Conv2d(128, 128, kernel_size=(3, 3), stride=(1, 1), padding=(1, 1))\n",
       "        (3): ReLU(inplace=True)\n",
       "        (4): Conv2d(128, 128, kernel_size=(1, 1), stride=(1, 1))\n",
       "      )\n",
       "    )\n",
       "    (fa): FeatureAttention(\n",
       "      (gap): AdaptiveAvgPool2d(output_size=1)\n",
       "      (c1): Sequential(\n",
       "        (0): Conv2d(128, 8, kernel_size=(1, 1), stride=(1, 1))\n",
       "        (1): ReLU(inplace=True)\n",
       "      )\n",
       "      (c2): Sequential(\n",
       "        (0): Conv2d(8, 128, kernel_size=(1, 1), stride=(1, 1))\n",
       "        (1): Sigmoid()\n",
       "      )\n",
       "    )\n",
       "  )\n",
       "  (eam3): EAM(\n",
       "    (r1): Merge_And_Run_Dual(\n",
       "      (part1): Sequential(\n",
       "        (0): Conv2d(128, 128, kernel_size=(3, 3), stride=(1, 1), padding=(1, 1))\n",
       "        (1): ReLU(inplace=True)\n",
       "        (2): Conv2d(128, 128, kernel_size=(3, 3), stride=(1, 1), padding=(2, 2), dilation=(2, 2))\n",
       "        (3): ReLU(inplace=True)\n",
       "      )\n",
       "      (part2): Sequential(\n",
       "        (0): Conv2d(128, 128, kernel_size=(3, 3), stride=(1, 1), padding=(3, 3), dilation=(3, 3))\n",
       "        (1): ReLU(inplace=True)\n",
       "        (2): Conv2d(128, 128, kernel_size=(3, 3), stride=(1, 1), padding=(4, 4), dilation=(4, 4))\n",
       "        (3): ReLU(inplace=True)\n",
       "      )\n",
       "      (part3): Sequential(\n",
       "        (0): Conv2d(256, 128, kernel_size=(3, 3), stride=(1, 1), padding=(1, 1))\n",
       "        (1): ReLU(inplace=True)\n",
       "      )\n",
       "    )\n",
       "    (r2): ResidualBlock(\n",
       "      (body): Sequential(\n",
       "        (0): Conv2d(128, 128, kernel_size=(3, 3), stride=(1, 1), padding=(1, 1))\n",
       "        (1): ReLU(inplace=True)\n",
       "        (2): Conv2d(128, 128, kernel_size=(3, 3), stride=(1, 1), padding=(1, 1))\n",
       "      )\n",
       "    )\n",
       "    (r3): EResidualBlock(\n",
       "      (body): Sequential(\n",
       "        (0): Conv2d(128, 128, kernel_size=(3, 3), stride=(1, 1), padding=(1, 1))\n",
       "        (1): ReLU(inplace=True)\n",
       "        (2): Conv2d(128, 128, kernel_size=(3, 3), stride=(1, 1), padding=(1, 1))\n",
       "        (3): ReLU(inplace=True)\n",
       "        (4): Conv2d(128, 128, kernel_size=(1, 1), stride=(1, 1))\n",
       "      )\n",
       "    )\n",
       "    (fa): FeatureAttention(\n",
       "      (gap): AdaptiveAvgPool2d(output_size=1)\n",
       "      (c1): Sequential(\n",
       "        (0): Conv2d(128, 8, kernel_size=(1, 1), stride=(1, 1))\n",
       "        (1): ReLU(inplace=True)\n",
       "      )\n",
       "      (c2): Sequential(\n",
       "        (0): Conv2d(8, 128, kernel_size=(1, 1), stride=(1, 1))\n",
       "        (1): Sigmoid()\n",
       "      )\n",
       "    )\n",
       "  )\n",
       "  (eam4): EAM(\n",
       "    (r1): Merge_And_Run_Dual(\n",
       "      (part1): Sequential(\n",
       "        (0): Conv2d(128, 128, kernel_size=(3, 3), stride=(1, 1), padding=(1, 1))\n",
       "        (1): ReLU(inplace=True)\n",
       "        (2): Conv2d(128, 128, kernel_size=(3, 3), stride=(1, 1), padding=(2, 2), dilation=(2, 2))\n",
       "        (3): ReLU(inplace=True)\n",
       "      )\n",
       "      (part2): Sequential(\n",
       "        (0): Conv2d(128, 128, kernel_size=(3, 3), stride=(1, 1), padding=(3, 3), dilation=(3, 3))\n",
       "        (1): ReLU(inplace=True)\n",
       "        (2): Conv2d(128, 128, kernel_size=(3, 3), stride=(1, 1), padding=(4, 4), dilation=(4, 4))\n",
       "        (3): ReLU(inplace=True)\n",
       "      )\n",
       "      (part3): Sequential(\n",
       "        (0): Conv2d(256, 128, kernel_size=(3, 3), stride=(1, 1), padding=(1, 1))\n",
       "        (1): ReLU(inplace=True)\n",
       "      )\n",
       "    )\n",
       "    (r2): ResidualBlock(\n",
       "      (body): Sequential(\n",
       "        (0): Conv2d(128, 128, kernel_size=(3, 3), stride=(1, 1), padding=(1, 1))\n",
       "        (1): ReLU(inplace=True)\n",
       "        (2): Conv2d(128, 128, kernel_size=(3, 3), stride=(1, 1), padding=(1, 1))\n",
       "      )\n",
       "    )\n",
       "    (r3): EResidualBlock(\n",
       "      (body): Sequential(\n",
       "        (0): Conv2d(128, 128, kernel_size=(3, 3), stride=(1, 1), padding=(1, 1))\n",
       "        (1): ReLU(inplace=True)\n",
       "        (2): Conv2d(128, 128, kernel_size=(3, 3), stride=(1, 1), padding=(1, 1))\n",
       "        (3): ReLU(inplace=True)\n",
       "        (4): Conv2d(128, 128, kernel_size=(1, 1), stride=(1, 1))\n",
       "      )\n",
       "    )\n",
       "    (fa): FeatureAttention(\n",
       "      (gap): AdaptiveAvgPool2d(output_size=1)\n",
       "      (c1): Sequential(\n",
       "        (0): Conv2d(128, 8, kernel_size=(1, 1), stride=(1, 1))\n",
       "        (1): ReLU(inplace=True)\n",
       "      )\n",
       "      (c2): Sequential(\n",
       "        (0): Conv2d(8, 128, kernel_size=(1, 1), stride=(1, 1))\n",
       "        (1): Sigmoid()\n",
       "      )\n",
       "    )\n",
       "  )\n",
       "  (last_conv): Conv2d(128, 3, kernel_size=(3, 3), stride=(1, 1), padding=(1, 1))\n",
       ")"
      ]
     },
     "execution_count": 5,
     "metadata": {},
     "output_type": "execute_result"
    }
   ],
   "source": [
    "# model\n",
    "weight_folder = 'weight'\n",
    "model_path = os.path.join(weight_folder, 'best_model.pth')\n",
    "checkpoint = torch.load(model_path)\n",
    "model = RIDNet(in_channels=3, num_features=128)\n",
    "model.load_state_dict(checkpoint['model_state_dict'])\n",
    "optimizer = optim.Adam(model.parameters())\n",
    "optimizer.load_state_dict(checkpoint['optimizer_state_dict'])\n",
    "# criterion = checkpoint['loss']\n",
    "\n",
    "model"
   ]
  },
  {
   "cell_type": "code",
   "execution_count": 6,
   "metadata": {},
   "outputs": [],
   "source": [
    "psnr_metrics = []\n",
    "val_losses= 0.\n",
    "def evaluation(batch_size):\n",
    "    \n",
    "    if torch.cuda.is_available():\n",
    "        device = torch.device('cuda:0')\n",
    "        print(device)\n",
    "        # Autres opérations à effectuer sur GPU ici...\n",
    "    else:\n",
    "        device = torch.device('cpu')\n",
    "        print(\"CUDA n'est pas disponible, utilisation de CPU.\")\n",
    "        \n",
    "    weight_folder = 'weight'\n",
    "    model_path = os.path.join(weight_folder, 'best_model.pth')\n",
    "    checkpoint = torch.load(model_path)\n",
    "    model = RIDNet(in_channels=3, num_features=128)\n",
    "    model.load_state_dict(checkpoint['model_state_dict'])\n",
    "    criterion = checkpoint['loss']\n",
    "\n",
    "    val_loader = get_val_loader(dataset_path=\"./val_data\", batch_size=batch_size)\n",
    "\n",
    "    model.eval()\n",
    "    with torch.no_grad():\n",
    "        val_loss = 0.\n",
    "        loop = tqdm(enumerate(val_loader), total=len(val_loader), leave=False)\n",
    "\n",
    "        for j, data in loop:\n",
    "            noisy = data['noisy'].to(device)\n",
    "            clean = data['clean'].to(device)\n",
    "\n",
    "            pred = model(noisy)\n",
    "            \n",
    "            loss = criterion(pred, clean)\n",
    "            val_loss += loss.item()\n",
    "            loop.set_description(f'valid')\n",
    "\n",
    "            psnr = PSNR(pred, clean)\n",
    "\n",
    "            psnr_metrics.append(psnr)\n",
    "    \n",
    "   \n",
    "    val_losses = val_loss / len(val_loader)\n"
   ]
  },
  {
   "cell_type": "code",
   "execution_count": 9,
   "metadata": {},
   "outputs": [
    {
     "name": "stdout",
     "output_type": "stream",
     "text": [
      "CUDA n'est pas disponible, utilisation de CPU.\n"
     ]
    },
    {
     "name": "stderr",
     "output_type": "stream",
     "text": [
      "                                                    \r"
     ]
    }
   ],
   "source": [
    "if __name__ == '__main__':\n",
    "    seed_everything(42)\n",
    "    evaluation(4)"
   ]
  },
  {
   "cell_type": "code",
   "execution_count": 10,
   "metadata": {},
   "outputs": [
    {
     "data": {
      "text/plain": [
       "[20.63732147216797, 22.814443588256836]"
      ]
     },
     "execution_count": 10,
     "metadata": {},
     "output_type": "execute_result"
    }
   ],
   "source": [
    "psnr_metrics"
   ]
  },
  {
   "cell_type": "markdown",
   "metadata": {},
   "source": [
    "## Continuous training"
   ]
  },
  {
   "cell_type": "code",
   "execution_count": 11,
   "metadata": {},
   "outputs": [],
   "source": [
    "train_losses = []\n",
    "val_losses = []\n",
    "psnr_metrics = []\n",
    "\n",
    "def train_continuous(epochs, batch_size):\n",
    "\n",
    "\n",
    "    EPOCHS = epochs\n",
    "    BATCH_SIZE = batch_size\n",
    "\n",
    "   \n",
    "    if torch.cuda.is_available():\n",
    "        device = torch.device('cuda:0')\n",
    "        print(device)\n",
    "        \n",
    "    else:\n",
    "        device = torch.device('cpu')\n",
    "        print(\"CUDA n'est pas disponible, utilisation de CPU.\")\n",
    "    \n",
    "    train_loader = get_train_loader(dataset_path=\"./data\", batch_size=BATCH_SIZE)\n",
    "\n",
    "    val_loader = get_val_loader(dataset_path=\"./val_data\", batch_size=BATCH_SIZE)\n",
    "\n",
    "    \n",
    "    weight_folder = 'weight'\n",
    "    model_path = os.path.join(weight_folder, 'best_model.pth')\n",
    "\n",
    "    checkpoint = torch.load(model_path)\n",
    "    model = RIDNet(in_channels=3, num_features=128)\n",
    "    model.load_state_dict(checkpoint['model_state_dict'])\n",
    "    optimizer = optim.Adam(model.parameters(), lr=1e-3)\n",
    "    optimizer.load_state_dict(checkpoint['optimizer_state_dict'])\n",
    "    ratio = 0.35  \n",
    "    criterion = L1_L2_Loss(ratio).to(device)\n",
    "   \n",
    "  \n",
    "\n",
    "    best_val_loss = inf\n",
    "    \n",
    "    for epoch in range(1, EPOCHS+1):\n",
    "        train_loss = 0.\n",
    "        val_loss = 0.\n",
    "        psnr = 0.\n",
    "\n",
    "        loop = tqdm(enumerate(train_loader), total=len(train_loader), leave=False)\n",
    "\n",
    "        model.train()\n",
    "        for i, data in loop:\n",
    "            noisy = data['noisy'].to(device)\n",
    "            clean = data['clean'].to(device)\n",
    "\n",
    "            optimizer.zero_grad()\n",
    "            pred = model(noisy)\n",
    "            loss = criterion(pred, clean) # pred, gt\n",
    "            loss.backward()\n",
    "            optimizer.step()\n",
    "\n",
    "            train_loss += loss.item()\n",
    "            loop.set_description(f'Epoch [{epoch}/{EPOCHS}')\n",
    "        \n",
    "        \n",
    "        model.eval()\n",
    "        with torch.no_grad():\n",
    "            loop = tqdm(enumerate(val_loader), total=len(val_loader), leave=False)\n",
    "\n",
    "            for j, data in loop:\n",
    "                noisy = data['noisy'].to(device)\n",
    "                clean = data['clean'].to(device)\n",
    "\n",
    "                pred = model(noisy)\n",
    "                \n",
    "                loss = criterion(pred, clean)\n",
    "                val_loss += loss.item()\n",
    "                loop.set_description(f'valid')\n",
    "\n",
    "                psnr += PSNR(noisy, clean)\n",
    "\n",
    "        \n",
    "        train_loss = train_loss / len(train_loader)\n",
    "        val_loss = val_loss / len(val_loader)\n",
    "        psnr = psnr / len(val_loader)\n",
    "\n",
    "        train_losses.append(train_loss)\n",
    "        val_losses.append(val_loss)\n",
    "        psnr_metrics.append(psnr)\n",
    "\n",
    "        print(f'Epoch: {epoch}\\t train_loss: {train_loss}\\t val_loss: {val_loss}')\n",
    "\n",
    "        if best_val_loss > val_loss:\n",
    "            # print('=' * 100)\n",
    "            print('=' * 100)\n",
    "            print(f'val_loss is improved from {best_val_loss:.8f} to {val_loss:.8f}\\t saved current weight')\n",
    "            print('=' * 100)\n",
    "            best_val_loss = val_loss\n",
    "\n",
    "            # torch.save\n",
    "            torch.save({'epoch': epoch,\n",
    "                        'model_state_dict': model.state_dict(),\n",
    "                        'optimizer_state_dict': optimizer.state_dict(),\n",
    "                        'loss': criterion},\n",
    "                        'weight/best_model_continuous.pth')\n",
    "\n",
    " "
   ]
  },
  {
   "cell_type": "code",
   "execution_count": 12,
   "metadata": {},
   "outputs": [
    {
     "name": "stdout",
     "output_type": "stream",
     "text": [
      "CUDA n'est pas disponible, utilisation de CPU.\n"
     ]
    },
    {
     "name": "stderr",
     "output_type": "stream",
     "text": [
      "                                                          \r"
     ]
    },
    {
     "name": "stdout",
     "output_type": "stream",
     "text": [
      "Epoch: 1\t train_loss: 0.1580846428871155\t val_loss: 0.24640540778636932\n",
      "====================================================================================================\n",
      "val_loss is improved from inf to 0.24640541\t saved current weight\n",
      "====================================================================================================\n"
     ]
    },
    {
     "name": "stderr",
     "output_type": "stream",
     "text": [
      "valid:  50%|█████     | 1/2 [01:40<01:40, 100.49s/it]     "
     ]
    }
   ],
   "source": [
    "if __name__ == '__main__':\n",
    "    seed_everything(42)\n",
    "    train_continuous(5,4)"
   ]
  }
 ],
 "metadata": {
  "kernelspec": {
   "display_name": "Python 3",
   "language": "python",
   "name": "python3"
  },
  "language_info": {
   "codemirror_mode": {
    "name": "ipython",
    "version": 3
   },
   "file_extension": ".py",
   "mimetype": "text/x-python",
   "name": "python",
   "nbconvert_exporter": "python",
   "pygments_lexer": "ipython3",
   "version": "3.9.6"
  }
 },
 "nbformat": 4,
 "nbformat_minor": 2
}
